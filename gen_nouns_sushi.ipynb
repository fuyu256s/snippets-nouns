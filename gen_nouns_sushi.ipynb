{
  "cells": [
    {
      "cell_type": "markdown",
      "metadata": {
        "id": "hbFDYazcmWIV"
      },
      "source": [
        "[![Open In Colab](https://colab.research.google.com/assets/colab-badge.svg)](https://colab.research.google.com/github/fuyu256s/snippets-nouns/blob/main/gen_nouns_sushi.ipynb)"
      ]
    },
    {
      "cell_type": "markdown",
      "metadata": {
        "id": "GngZpfLyeOUz"
      },
      "source": [
        "# setup"
      ]
    },
    {
      "cell_type": "markdown",
      "metadata": {
        "id": "jLm2NcdytOrt"
      },
      "source": [
        "## import"
      ]
    },
    {
      "cell_type": "code",
      "execution_count": null,
      "metadata": {
        "colab": {
          "base_uri": "https://localhost:8080/"
        },
        "id": "MXJXPXUYeVVH",
        "outputId": "127dfeb7-f222-4bea-e144-44cffca0e6c6"
      },
      "outputs": [
        {
          "output_type": "stream",
          "name": "stdout",
          "text": [
            "Cloning into 'nouns-monorepo'...\n",
            "remote: Enumerating objects: 31341, done.\u001b[K\n",
            "remote: Counting objects: 100% (63/63), done.\u001b[K\n",
            "remote: Compressing objects: 100% (43/43), done.\u001b[K\n",
            "remote: Total 31341 (delta 32), reused 37 (delta 20), pack-reused 31278\u001b[K\n",
            "Receiving objects: 100% (31341/31341), 10.23 MiB | 7.41 MiB/s, done.\n",
            "Resolving deltas: 100% (23235/23235), done.\n"
          ]
        }
      ],
      "source": [
        "!git clone https://github.com/nounsDAO/nouns-monorepo.git"
      ]
    },
    {
      "cell_type": "code",
      "execution_count": null,
      "metadata": {
        "colab": {
          "base_uri": "https://localhost:8080/"
        },
        "id": "ez886bncgTkO",
        "outputId": "eba721cc-c06b-478a-d8c3-73764b4f0fa9"
      },
      "outputs": [
        {
          "output_type": "stream",
          "name": "stdout",
          "text": [
            "Cloning into 'sushi-nouns-dao-assets'...\n",
            "remote: Enumerating objects: 217, done.\u001b[K\n",
            "remote: Counting objects: 100% (217/217), done.\u001b[K\n",
            "remote: Compressing objects: 100% (147/147), done.\u001b[K\n",
            "remote: Total 217 (delta 71), reused 193 (delta 58), pack-reused 0\u001b[K\n",
            "Receiving objects: 100% (217/217), 483.73 KiB | 1.21 MiB/s, done.\n",
            "Resolving deltas: 100% (71/71), done.\n"
          ]
        }
      ],
      "source": [
        "!git clone https://github.com/Cryptocoders-wtf/sushi-nouns-dao-assets.git"
      ]
    },
    {
      "cell_type": "code",
      "execution_count": null,
      "metadata": {
        "colab": {
          "base_uri": "https://localhost:8080/"
        },
        "id": "DqTxHdbmgXV9",
        "outputId": "48a3b2df-343d-43ec-c88b-8d18c5064d6f"
      },
      "outputs": [
        {
          "output_type": "stream",
          "name": "stdout",
          "text": [
            "\u001b[0m\u001b[01;34mnouns-monorepo\u001b[0m/  \u001b[01;34msample_data\u001b[0m/  \u001b[01;34msushi-nouns-dao-assets\u001b[0m/\n"
          ]
        }
      ],
      "source": [
        "%ls"
      ]
    },
    {
      "cell_type": "code",
      "execution_count": null,
      "metadata": {
        "id": "vEoGcHy6eOU4"
      },
      "outputs": [],
      "source": [
        "import math\n",
        "import random\n",
        "from pathlib import Path\n",
        "\n",
        "import matplotlib.pyplot as plt\n",
        "import pandas as pd\n",
        "from PIL import Image"
      ]
    },
    {
      "cell_type": "code",
      "execution_count": null,
      "metadata": {
        "id": "12Ur4gdHeOU6"
      },
      "outputs": [],
      "source": [
        "seed = None\n",
        "random.seed(seed)"
      ]
    },
    {
      "cell_type": "markdown",
      "metadata": {
        "id": "MBhb-7uQtYCN"
      },
      "source": [
        "## func"
      ]
    },
    {
      "cell_type": "code",
      "execution_count": null,
      "metadata": {
        "id": "Z-LeMCCEeOU6"
      },
      "outputs": [],
      "source": [
        "def im_stack(parts: list) -> Image.Image:\n",
        "    for i, x in enumerate(parts):\n",
        "        if i == 0:\n",
        "            im = Image.open(x)\n",
        "        else:\n",
        "            _x = Image.open(x)\n",
        "            im.paste(_x, mask=_x)\n",
        "    return im"
      ]
    },
    {
      "cell_type": "code",
      "execution_count": null,
      "metadata": {
        "id": "6tWMv1jweOU7"
      },
      "outputs": [],
      "source": [
        "def plt_ims_auto(ims: list, ncols: int = 5):\n",
        "    nrows = math.ceil(len(ims) / ncols)\n",
        "    figsize = (ncols * 2, nrows * 2)\n",
        "    plt_ims(ims, nrows=nrows, ncols=ncols, figsize=figsize)\n",
        "\n",
        "\n",
        "def plt_ims(ims: list,\n",
        "            nrows=4, ncols=5, figsize=(10, 8)):\n",
        "  fig, axs = plt.subplots(nrows, ncols, figsize=figsize,\n",
        "                          subplot_kw={'xticks': [], 'yticks': []})\n",
        "\n",
        "  for ax in axs.flat:\n",
        "    ax.axis('off')\n",
        "\n",
        "  for ax, im in zip(axs.flat, ims):\n",
        "      ax.imshow(im)\n",
        "\n",
        "  fig.tight_layout()\n",
        "  plt.show()"
      ]
    },
    {
      "cell_type": "code",
      "execution_count": null,
      "metadata": {
        "id": "CsqlOGnz2PRl"
      },
      "outputs": [],
      "source": [
        "def table_traits(p_traits):\n",
        "    df = pd.DataFrame([[y.stem for y in x] for x in p_traits],\n",
        "            columns=['0-backgrounds', '1-bodies', '2-accessories', '3-heads', '4-glasses'] )\n",
        "    display(df.replace(\"^.*?-\", \"\", regex=True))"
      ]
    },
    {
      "cell_type": "markdown",
      "metadata": {
        "id": "W0qv58J6eOU7"
      },
      "source": [
        "## traits"
      ]
    },
    {
      "cell_type": "code",
      "execution_count": null,
      "metadata": {
        "colab": {
          "base_uri": "https://localhost:8080/"
        },
        "id": "ZSOq-7wMeOU8",
        "outputId": "96e27079-0223-407a-f8a4-61f48ec2f33b"
      },
      "outputs": [
        {
          "output_type": "stream",
          "name": "stdout",
          "text": [
            "['0-backgrounds', '1-bodies', '2-accessories', '3-heads', '4-glasses']\n",
            "[2, 30, 137, 234, 21]\n"
          ]
        }
      ],
      "source": [
        "# nouns-assets\n",
        "p0 = Path(r'./nouns-monorepo/packages/nouns-assets/images')\n",
        "\n",
        "dir_traits0 = sorted([x for x in p0.iterdir() if x.is_dir()])\n",
        "traits0 = [list(x.glob(\"*.png\")) for x in dir_traits0]\n",
        "\n",
        "print([x.name for x in dir_traits0])\n",
        "print([len(x) for x in traits0])"
      ]
    },
    {
      "cell_type": "code",
      "execution_count": null,
      "metadata": {
        "colab": {
          "base_uri": "https://localhost:8080/"
        },
        "id": "DpYiW5TxeOU-",
        "outputId": "ebdbae1c-c247-4969-fc49-2fd1f07945e4"
      },
      "outputs": [
        {
          "output_type": "stream",
          "name": "stdout",
          "text": [
            "['0-backgrounds', '1-bodies', '2-accessories', '3-heads', '4-glasses']\n",
            "[13, 0, 25, 19, 0, 1]\n"
          ]
        }
      ],
      "source": [
        "# sushi-nouns-dao-assets\n",
        "p1 = Path(r'./sushi-nouns-dao-assets/images')\n",
        "\n",
        "dir_traits1 = sorted([x for x in p1.iterdir() if x.is_dir()])\n",
        "traits1 = [list(x.glob(\"*.png\")) for x in dir_traits1]\n",
        "\n",
        "print([x.name for x in dir_traits1[:5]])\n",
        "print([len(x) for x in traits1])"
      ]
    },
    {
      "cell_type": "code",
      "execution_count": null,
      "metadata": {
        "colab": {
          "base_uri": "https://localhost:8080/"
        },
        "id": "o4WIth5leOU_",
        "outputId": "a387fd8e-a76a-4f42-ea85-99e1f1fb7238"
      },
      "outputs": [
        {
          "output_type": "stream",
          "name": "stdout",
          "text": [
            "[13, 30, 25, 19, 21]\n"
          ]
        }
      ],
      "source": [
        "# use these\n",
        "traits = traits0.copy()\n",
        "traits[0] = traits1[0]\n",
        "traits[2] = traits1[2]\n",
        "traits[3] = traits1[3]\n",
        "\n",
        "print([len(x) for x in traits])"
      ]
    },
    {
      "cell_type": "markdown",
      "metadata": {
        "id": "3oAjLDXa8i-e"
      },
      "source": [
        "# generate"
      ]
    },
    {
      "cell_type": "markdown",
      "metadata": {
        "id": "nUZgkFm0eOU_"
      },
      "source": [
        "## 1 noun"
      ]
    },
    {
      "cell_type": "code",
      "execution_count": null,
      "metadata": {
        "colab": {
          "base_uri": "https://localhost:8080/",
          "height": 290
        },
        "id": "wodjKjwWeOVA",
        "outputId": "ced30cb7-7db1-4b21-f29b-8e29f72c0fb6"
      },
      "outputs": [
        {
          "output_type": "stream",
          "name": "stdout",
          "text": [
            "['bg-uroko', 'body-darkpink', 'accessory-nihon-logo', 'head-medium-fatty-tuna', 'glasses-square-watermelon']\n"
          ]
        },
        {
          "output_type": "execute_result",
          "data": {
            "text/plain": [
              "<PIL.Image.Image image mode=RGBA size=256x256 at 0x7F49AA9CCCD0>"
            ],
            "image/png": "[encoded data removed]"
          },
          "metadata": {},
          "execution_count": 12
        }
      ],
      "source": [
        "# # specify:\n",
        "# parts = [dir_traits1[0] / 'bg-warm.png',\n",
        "#          dir_traits1[1] / 'body-grayscale-1.png',\n",
        "#          dir_traits1[2] / 'accessory-1n.png',\n",
        "#          dir_traits1[3] / 'head-film-35mm.png',\n",
        "#          dir_traits1[4] / 'glasses-square-red.png'\n",
        "#          ]\n",
        "\n",
        "# random:\n",
        "parts = [random.choice(x) for x in traits]\n",
        "noun = im_stack(parts)\n",
        "\n",
        "print([x.stem for x in parts])\n",
        "# noun\n",
        "# noun.save(\"out.png\")\n",
        "noun.resize((256, 256), Image.NEAREST)"
      ]
    },
    {
      "cell_type": "markdown",
      "metadata": {
        "id": "nqdRcmgoeOVB"
      },
      "source": [
        "## n nouns"
      ]
    },
    {
      "cell_type": "code",
      "execution_count": null,
      "metadata": {
        "id": "2YV_0KAx6khz"
      },
      "outputs": [],
      "source": [
        "n = 20"
      ]
    },
    {
      "cell_type": "code",
      "execution_count": null,
      "metadata": {
        "colab": {
          "base_uri": "https://localhost:8080/",
          "height": 585
        },
        "id": "eEY_rG_VueT9",
        "outputId": "e5407dbd-bc5d-4868-fdaa-625522dda346"
      },
      "outputs": [
        {
          "output_type": "display_data",
          "data": {
            "text/plain": [
              "<Figure size 720x576 with 20 Axes>"
            ],
            "image/png": "[encoded data removed]"
          },
          "metadata": {}
        }
      ],
      "source": [
        "p_traits = [[random.choice(x) for x in traits]\n",
        "            for i in range(n)]\n",
        "ims = [im_stack(x) for x in p_traits]\n",
        "\n",
        "plt_ims_auto(ims)"
      ]
    },
    {
      "cell_type": "code",
      "execution_count": null,
      "metadata": {
        "colab": {
          "base_uri": "https://localhost:8080/",
          "height": 676
        },
        "id": "1k6DY-rjwv47",
        "outputId": "2da938c5-edee-45bc-f315-4b9bec307111"
      },
      "outputs": [
        {
          "output_type": "display_data",
          "data": {
            "text/plain": [
              "   0-backgrounds      1-bodies        2-accessories            3-heads  \\\n",
              "0     sankuzushi    redpinkish            txt-sushi     shrimp-tempura   \n",
              "1       yagasuri          gunk                 crab             aoyagi   \n",
              "2        asanoha  computerblue  retorosushi-checker         tekka-maki   \n",
              "3         fundou   grayscale-9                 geta          tamago-v3   \n",
              "4        asanoha      darkpink               yunomi          tamago-v3   \n",
              "5         fundou    redpinkish       katori-sennkou        takuan-maki   \n",
              "6         fundou          rust       katori-sennkou     shrimp-tempura   \n",
              "7      ichimatsu   grayscale-8             goldfish           kakinoha   \n",
              "8       tatewaku          rust       katori-sennkou        sea-​​bream   \n",
              "9        shippou      peachy-B        shinkansen200              shako   \n",
              "10      seigaiha     darkbrown             goldfish  medium-fatty-tuna   \n",
              "11         uroko      darkpink           shinkansen     shrimp-tempura   \n",
              "12        koushi          gold           bling-geta       kanpyou-maki   \n",
              "13        fundou    slimegreen               wasabi         conger-eel   \n",
              "14        fundou          gold    retorosushi-plaid          tamago-v3   \n",
              "15        fundou   grayscale-8         map-of-japan        sea-​​bream   \n",
              "16        kagome      bluegrey                 geta             aoyagi   \n",
              "17        koushi   grayscale-9            soy-sauce       uni-cucumber   \n",
              "18      seigaiha   grayscale-8    retorosushi-plaid          tamago-v3   \n",
              "19        higaki          rust       katori-sennkou       uni-cucumber   \n",
              "\n",
              "                     4-glasses  \n",
              "0      square-yellow-saturated  \n",
              "1                  square-teal  \n",
              "2                square-orange  \n",
              "3                  square-teal  \n",
              "4             square-fullblack  \n",
              "5             square-black-rgb  \n",
              "6            square-watermelon  \n",
              "7             square-black-rgb  \n",
              "8               square-magenta  \n",
              "9     square-pink-purple-multi  \n",
              "10                 square-blue  \n",
              "11            square-fullblack  \n",
              "12  square-yellow-orange-multi  \n",
              "13               square-orange  \n",
              "14     square-yellow-saturated  \n",
              "15     square-yellow-saturated  \n",
              "16                square-guava  \n",
              "17            square-fullblack  \n",
              "18       square-black-eyes-red  \n",
              "19       square-black-eyes-red  "
            ],
            "text/html": [
              "\n",
              "  <div id=\"df-e9f287e6-a514-40a9-a97f-b0fd5600c18c\">\n",
              "    <div class=\"colab-df-container\">\n",
              "      <div>\n",
              "<style scoped>\n",
              "    .dataframe tbody tr th:only-of-type {\n",
              "        vertical-align: middle;\n",
              "    }\n",
              "\n",
              "    .dataframe tbody tr th {\n",
              "        vertical-align: top;\n",
              "    }\n",
              "\n",
              "    .dataframe thead th {\n",
              "        text-align: right;\n",
              "    }\n",
              "</style>\n",
              "<table border=\"1\" class=\"dataframe\">\n",
              "  <thead>\n",
              "    <tr style=\"text-align: right;\">\n",
              "      <th></th>\n",
              "      <th>0-backgrounds</th>\n",
              "      <th>1-bodies</th>\n",
              "      <th>2-accessories</th>\n",
              "      <th>3-heads</th>\n",
              "      <th>4-glasses</th>\n",
              "    </tr>\n",
              "  </thead>\n",
              "  <tbody>\n",
              "    <tr>\n",
              "      <th>0</th>\n",
              "      <td>sankuzushi</td>\n",
              "      <td>redpinkish</td>\n",
              "      <td>txt-sushi</td>\n",
              "      <td>shrimp-tempura</td>\n",
              "      <td>square-yellow-saturated</td>\n",
              "    </tr>\n",
              "    <tr>\n",
              "      <th>1</th>\n",
              "      <td>yagasuri</td>\n",
              "      <td>gunk</td>\n",
              "      <td>crab</td>\n",
              "      <td>aoyagi</td>\n",
              "      <td>square-teal</td>\n",
              "    </tr>\n",
              "    <tr>\n",
              "      <th>2</th>\n",
              "      <td>asanoha</td>\n",
              "      <td>computerblue</td>\n",
              "      <td>retorosushi-checker</td>\n",
              "      <td>tekka-maki</td>\n",
              "      <td>square-orange</td>\n",
              "    </tr>\n",
              "    <tr>\n",
              "      <th>3</th>\n",
              "      <td>fundou</td>\n",
              "      <td>grayscale-9</td>\n",
              "      <td>geta</td>\n",
              "      <td>tamago-v3</td>\n",
              "      <td>square-teal</td>\n",
              "    </tr>\n",
              "    <tr>\n",
              "      <th>4</th>\n",
              "      <td>asanoha</td>\n",
              "      <td>darkpink</td>\n",
              "      <td>yunomi</td>\n",
              "      <td>tamago-v3</td>\n",
              "      <td>square-fullblack</td>\n",
              "    </tr>\n",
              "    <tr>\n",
              "      <th>5</th>\n",
              "      <td>fundou</td>\n",
              "      <td>redpinkish</td>\n",
              "      <td>katori-sennkou</td>\n",
              "      <td>takuan-maki</td>\n",
              "      <td>square-black-rgb</td>\n",
              "    </tr>\n",
              "    <tr>\n",
              "      <th>6</th>\n",
              "      <td>fundou</td>\n",
              "      <td>rust</td>\n",
              "      <td>katori-sennkou</td>\n",
              "      <td>shrimp-tempura</td>\n",
              "      <td>square-watermelon</td>\n",
              "    </tr>\n",
              "    <tr>\n",
              "      <th>7</th>\n",
              "      <td>ichimatsu</td>\n",
              "      <td>grayscale-8</td>\n",
              "      <td>goldfish</td>\n",
              "      <td>kakinoha</td>\n",
              "      <td>square-black-rgb</td>\n",
              "    </tr>\n",
              "    <tr>\n",
              "      <th>8</th>\n",
              "      <td>tatewaku</td>\n",
              "      <td>rust</td>\n",
              "      <td>katori-sennkou</td>\n",
              "      <td>sea-​​bream</td>\n",
              "      <td>square-magenta</td>\n",
              "    </tr>\n",
              "    <tr>\n",
              "      <th>9</th>\n",
              "      <td>shippou</td>\n",
              "      <td>peachy-B</td>\n",
              "      <td>shinkansen200</td>\n",
              "      <td>shako</td>\n",
              "      <td>square-pink-purple-multi</td>\n",
              "    </tr>\n",
              "    <tr>\n",
              "      <th>10</th>\n",
              "      <td>seigaiha</td>\n",
              "      <td>darkbrown</td>\n",
              "      <td>goldfish</td>\n",
              "      <td>medium-fatty-tuna</td>\n",
              "      <td>square-blue</td>\n",
              "    </tr>\n",
              "    <tr>\n",
              "      <th>11</th>\n",
              "      <td>uroko</td>\n",
              "      <td>darkpink</td>\n",
              "      <td>shinkansen</td>\n",
              "      <td>shrimp-tempura</td>\n",
              "      <td>square-fullblack</td>\n",
              "    </tr>\n",
              "    <tr>\n",
              "      <th>12</th>\n",
              "      <td>koushi</td>\n",
              "      <td>gold</td>\n",
              "      <td>bling-geta</td>\n",
              "      <td>kanpyou-maki</td>\n",
              "      <td>square-yellow-orange-multi</td>\n",
              "    </tr>\n",
              "    <tr>\n",
              "      <th>13</th>\n",
              "      <td>fundou</td>\n",
              "      <td>slimegreen</td>\n",
              "      <td>wasabi</td>\n",
              "      <td>conger-eel</td>\n",
              "      <td>square-orange</td>\n",
              "    </tr>\n",
              "    <tr>\n",
              "      <th>14</th>\n",
              "      <td>fundou</td>\n",
              "      <td>gold</td>\n",
              "      <td>retorosushi-plaid</td>\n",
              "      <td>tamago-v3</td>\n",
              "      <td>square-yellow-saturated</td>\n",
              "    </tr>\n",
              "    <tr>\n",
              "      <th>15</th>\n",
              "      <td>fundou</td>\n",
              "      <td>grayscale-8</td>\n",
              "      <td>map-of-japan</td>\n",
              "      <td>sea-​​bream</td>\n",
              "      <td>square-yellow-saturated</td>\n",
              "    </tr>\n",
              "    <tr>\n",
              "      <th>16</th>\n",
              "      <td>kagome</td>\n",
              "      <td>bluegrey</td>\n",
              "      <td>geta</td>\n",
              "      <td>aoyagi</td>\n",
              "      <td>square-guava</td>\n",
              "    </tr>\n",
              "    <tr>\n",
              "      <th>17</th>\n",
              "      <td>koushi</td>\n",
              "      <td>grayscale-9</td>\n",
              "      <td>soy-sauce</td>\n",
              "      <td>uni-cucumber</td>\n",
              "      <td>square-fullblack</td>\n",
              "    </tr>\n",
              "    <tr>\n",
              "      <th>18</th>\n",
              "      <td>seigaiha</td>\n",
              "      <td>grayscale-8</td>\n",
              "      <td>retorosushi-plaid</td>\n",
              "      <td>tamago-v3</td>\n",
              "      <td>square-black-eyes-red</td>\n",
              "    </tr>\n",
              "    <tr>\n",
              "      <th>19</th>\n",
              "      <td>higaki</td>\n",
              "      <td>rust</td>\n",
              "      <td>katori-sennkou</td>\n",
              "      <td>uni-cucumber</td>\n",
              "      <td>square-black-eyes-red</td>\n",
              "    </tr>\n",
              "  </tbody>\n",
              "</table>\n",
              "</div>\n",
              "      <button class=\"colab-df-convert\" onclick=\"convertToInteractive('df-e9f287e6-a514-40a9-a97f-b0fd5600c18c')\"\n",
              "              title=\"Convert this dataframe to an interactive table.\"\n",
              "              style=\"display:none;\">\n",
              "        \n",
              "  <svg xmlns=\"http://www.w3.org/2000/svg\" height=\"24px\"viewBox=\"0 0 24 24\"\n",
              "       width=\"24px\">\n",
              "    <path d=\"M0 0h24v24H0V0z\" fill=\"none\"/>\n",
              "    <path d=\"M18.56 5.44l.94 2.06.94-2.06 2.06-.94-2.06-.94-.94-2.06-.94 2.06-2.06.94zm-11 1L8.5 8.5l.94-2.06 2.06-.94-2.06-.94L8.5 2.5l-.94 2.06-2.06.94zm10 10l.94 2.06.94-2.06 2.06-.94-2.06-.94-.94-2.06-.94 2.06-2.06.94z\"/><path d=\"M17.41 7.96l-1.37-1.37c-.4-.4-.92-.59-1.43-.59-.52 0-1.04.2-1.43.59L10.3 9.45l-7.72 7.72c-.78.78-.78 2.05 0 2.83L4 21.41c.39.39.9.59 1.41.59.51 0 1.02-.2 1.41-.59l7.78-7.78 2.81-2.81c.8-.78.8-2.07 0-2.86zM5.41 20L4 18.59l7.72-7.72 1.47 1.35L5.41 20z\"/>\n",
              "  </svg>\n",
              "      </button>\n",
              "      \n",
              "  <style>\n",
              "    .colab-df-container {\n",
              "      display:flex;\n",
              "      flex-wrap:wrap;\n",
              "      gap: 12px;\n",
              "    }\n",
              "\n",
              "    .colab-df-convert {\n",
              "      background-color: #E8F0FE;\n",
              "      border: none;\n",
              "      border-radius: 50%;\n",
              "      cursor: pointer;\n",
              "      display: none;\n",
              "      fill: #1967D2;\n",
              "      height: 32px;\n",
              "      padding: 0 0 0 0;\n",
              "      width: 32px;\n",
              "    }\n",
              "\n",
              "    .colab-df-convert:hover {\n",
              "      background-color: #E2EBFA;\n",
              "      box-shadow: 0px 1px 2px rgba(60, 64, 67, 0.3), 0px 1px 3px 1px rgba(60, 64, 67, 0.15);\n",
              "      fill: #174EA6;\n",
              "    }\n",
              "\n",
              "    [theme=dark] .colab-df-convert {\n",
              "      background-color: #3B4455;\n",
              "      fill: #D2E3FC;\n",
              "    }\n",
              "\n",
              "    [theme=dark] .colab-df-convert:hover {\n",
              "      background-color: #434B5C;\n",
              "      box-shadow: 0px 1px 3px 1px rgba(0, 0, 0, 0.15);\n",
              "      filter: drop-shadow(0px 1px 2px rgba(0, 0, 0, 0.3));\n",
              "      fill: #FFFFFF;\n",
              "    }\n",
              "  </style>\n",
              "\n",
              "      <script>\n",
              "        const buttonEl =\n",
              "          document.querySelector('#df-e9f287e6-a514-40a9-a97f-b0fd5600c18c button.colab-df-convert');\n",
              "        buttonEl.style.display =\n",
              "          google.colab.kernel.accessAllowed ? 'block' : 'none';\n",
              "\n",
              "        async function convertToInteractive(key) {\n",
              "          const element = document.querySelector('#df-e9f287e6-a514-40a9-a97f-b0fd5600c18c');\n",
              "          const dataTable =\n",
              "            await google.colab.kernel.invokeFunction('convertToInteractive',\n",
              "                                                     [key], {});\n",
              "          if (!dataTable) return;\n",
              "\n",
              "          const docLinkHtml = 'Like what you see? Visit the ' +\n",
              "            '<a target=\"_blank\" href=https://colab.research.google.com/notebooks/data_table.ipynb>data table notebook</a>'\n",
              "            + ' to learn more about interactive tables.';\n",
              "          element.innerHTML = '';\n",
              "          dataTable['output_type'] = 'display_data';\n",
              "          await google.colab.output.renderOutput(dataTable, element);\n",
              "          const docLink = document.createElement('div');\n",
              "          docLink.innerHTML = docLinkHtml;\n",
              "          element.appendChild(docLink);\n",
              "        }\n",
              "      </script>\n",
              "    </div>\n",
              "  </div>\n",
              "  "
            ]
          },
          "metadata": {}
        }
      ],
      "source": [
        "table_traits(p_traits)"
      ]
    },
    {
      "cell_type": "markdown",
      "metadata": {
        "id": "vJnl-mKu6RvO"
      },
      "source": [
        "## for each head"
      ]
    },
    {
      "cell_type": "code",
      "execution_count": null,
      "metadata": {
        "colab": {
          "base_uri": "https://localhost:8080/",
          "height": 585
        },
        "id": "BZyLebL16RvO",
        "outputId": "b92a1947-fed4-41b1-983d-daa5d48164c1"
      },
      "outputs": [
        {
          "output_type": "display_data",
          "data": {
            "text/plain": [
              "<Figure size 720x576 with 20 Axes>"
            ],
            "image/png": "[encoded data removed]"
          },
          "metadata": {}
        }
      ],
      "source": [
        "n = len(traits[3])\n",
        "p_traits_head = [[\n",
        "                random.choice(traits[0]),\n",
        "                random.choice(traits[1]),\n",
        "                random.choice(traits[2]),\n",
        "                traits[3][i],\n",
        "                random.choice(traits[4]),\n",
        "                 ]\n",
        "            for i in range(n)]\n",
        "ims_head = [im_stack(x) for x in p_traits_head]\n",
        "\n",
        "plt_ims_auto(ims_head)"
      ]
    },
    {
      "cell_type": "code",
      "execution_count": null,
      "metadata": {
        "colab": {
          "base_uri": "https://localhost:8080/",
          "height": 645
        },
        "id": "iwNugW2e6RvP",
        "outputId": "b5512676-ad35-4aca-a19b-cb6880344b42"
      },
      "outputs": [
        {
          "output_type": "display_data",
          "data": {
            "text/plain": [
              "   0-backgrounds       1-bodies   2-accessories            3-heads  \\\n",
              "0         koushi    grayscale-8        goodwill     shime-mackerel   \n",
              "1        asanoha           gold        goldfish             aoyagi   \n",
              "2          hishi         yellow  katori-sennkou              shako   \n",
              "3       seigaiha     slimegreen          txt-jp         tekka-maki   \n",
              "4         fundou         purple      shinkansen  medium-fatty-tuna   \n",
              "5       tatewaku           teal       kakigoori     shrimp-tempura   \n",
              "6      ichimatsu   computerblue          bonsai           skipjack   \n",
              "7     sankuzushi        magenta       kakigoori    california-roll   \n",
              "8         higaki           cold          txt-jp          tamago-v3   \n",
              "9       seigaiha           rust            geta              squid   \n",
              "10        kagome        foggrey      shinkansen           kakinoha   \n",
              "11      seigaiha       blue-sky            geta      firefly-squid   \n",
              "12       shippou         purple    senkouhanabi        sea-​​bream   \n",
              "13       asanoha       bluegrey   shinkansen200       uni-cucumber   \n",
              "14         uroko         yellow        goodwill         conger-eel   \n",
              "15      seigaiha      bege-bsod   shinkansen200             kohada   \n",
              "16         hishi  orange-yellow    senkouhanabi       kanpyou-maki   \n",
              "17      tatewaku       darkpink          sakura         kappa-maki   \n",
              "18         uroko         yellow          txt-jp        takuan-maki   \n",
              "\n",
              "                    4-glasses  \n",
              "0   square-blue-med-saturated  \n",
              "1           square-grey-light  \n",
              "2                square-black  \n",
              "3           square-watermelon  \n",
              "4                 square-blue  \n",
              "5            square-fullblack  \n",
              "6       square-black-eyes-red  \n",
              "7    square-pink-purple-multi  \n",
              "8           square-watermelon  \n",
              "9                  square-red  \n",
              "10                square-blue  \n",
              "11           square-black-rgb  \n",
              "12               square-guava  \n",
              "13               square-honey  \n",
              "14                square-blue  \n",
              "15          square-grey-light  \n",
              "16                square-teal  \n",
              "17               square-black  \n",
              "18  square-blue-med-saturated  "
            ],
            "text/html": [
              "\n",
              "  <div id=\"df-7117b03e-d705-4015-b08b-38e0b7da65a0\">\n",
              "    <div class=\"colab-df-container\">\n",
              "      <div>\n",
              "<style scoped>\n",
              "    .dataframe tbody tr th:only-of-type {\n",
              "        vertical-align: middle;\n",
              "    }\n",
              "\n",
              "    .dataframe tbody tr th {\n",
              "        vertical-align: top;\n",
              "    }\n",
              "\n",
              "    .dataframe thead th {\n",
              "        text-align: right;\n",
              "    }\n",
              "</style>\n",
              "<table border=\"1\" class=\"dataframe\">\n",
              "  <thead>\n",
              "    <tr style=\"text-align: right;\">\n",
              "      <th></th>\n",
              "      <th>0-backgrounds</th>\n",
              "      <th>1-bodies</th>\n",
              "      <th>2-accessories</th>\n",
              "      <th>3-heads</th>\n",
              "      <th>4-glasses</th>\n",
              "    </tr>\n",
              "  </thead>\n",
              "  <tbody>\n",
              "    <tr>\n",
              "      <th>0</th>\n",
              "      <td>koushi</td>\n",
              "      <td>grayscale-8</td>\n",
              "      <td>goodwill</td>\n",
              "      <td>shime-mackerel</td>\n",
              "      <td>square-blue-med-saturated</td>\n",
              "    </tr>\n",
              "    <tr>\n",
              "      <th>1</th>\n",
              "      <td>asanoha</td>\n",
              "      <td>gold</td>\n",
              "      <td>goldfish</td>\n",
              "      <td>aoyagi</td>\n",
              "      <td>square-grey-light</td>\n",
              "    </tr>\n",
              "    <tr>\n",
              "      <th>2</th>\n",
              "      <td>hishi</td>\n",
              "      <td>yellow</td>\n",
              "      <td>katori-sennkou</td>\n",
              "      <td>shako</td>\n",
              "      <td>square-black</td>\n",
              "    </tr>\n",
              "    <tr>\n",
              "      <th>3</th>\n",
              "      <td>seigaiha</td>\n",
              "      <td>slimegreen</td>\n",
              "      <td>txt-jp</td>\n",
              "      <td>tekka-maki</td>\n",
              "      <td>square-watermelon</td>\n",
              "    </tr>\n",
              "    <tr>\n",
              "      <th>4</th>\n",
              "      <td>fundou</td>\n",
              "      <td>purple</td>\n",
              "      <td>shinkansen</td>\n",
              "      <td>medium-fatty-tuna</td>\n",
              "      <td>square-blue</td>\n",
              "    </tr>\n",
              "    <tr>\n",
              "      <th>5</th>\n",
              "      <td>tatewaku</td>\n",
              "      <td>teal</td>\n",
              "      <td>kakigoori</td>\n",
              "      <td>shrimp-tempura</td>\n",
              "      <td>square-fullblack</td>\n",
              "    </tr>\n",
              "    <tr>\n",
              "      <th>6</th>\n",
              "      <td>ichimatsu</td>\n",
              "      <td>computerblue</td>\n",
              "      <td>bonsai</td>\n",
              "      <td>skipjack</td>\n",
              "      <td>square-black-eyes-red</td>\n",
              "    </tr>\n",
              "    <tr>\n",
              "      <th>7</th>\n",
              "      <td>sankuzushi</td>\n",
              "      <td>magenta</td>\n",
              "      <td>kakigoori</td>\n",
              "      <td>california-roll</td>\n",
              "      <td>square-pink-purple-multi</td>\n",
              "    </tr>\n",
              "    <tr>\n",
              "      <th>8</th>\n",
              "      <td>higaki</td>\n",
              "      <td>cold</td>\n",
              "      <td>txt-jp</td>\n",
              "      <td>tamago-v3</td>\n",
              "      <td>square-watermelon</td>\n",
              "    </tr>\n",
              "    <tr>\n",
              "      <th>9</th>\n",
              "      <td>seigaiha</td>\n",
              "      <td>rust</td>\n",
              "      <td>geta</td>\n",
              "      <td>squid</td>\n",
              "      <td>square-red</td>\n",
              "    </tr>\n",
              "    <tr>\n",
              "      <th>10</th>\n",
              "      <td>kagome</td>\n",
              "      <td>foggrey</td>\n",
              "      <td>shinkansen</td>\n",
              "      <td>kakinoha</td>\n",
              "      <td>square-blue</td>\n",
              "    </tr>\n",
              "    <tr>\n",
              "      <th>11</th>\n",
              "      <td>seigaiha</td>\n",
              "      <td>blue-sky</td>\n",
              "      <td>geta</td>\n",
              "      <td>firefly-squid</td>\n",
              "      <td>square-black-rgb</td>\n",
              "    </tr>\n",
              "    <tr>\n",
              "      <th>12</th>\n",
              "      <td>shippou</td>\n",
              "      <td>purple</td>\n",
              "      <td>senkouhanabi</td>\n",
              "      <td>sea-​​bream</td>\n",
              "      <td>square-guava</td>\n",
              "    </tr>\n",
              "    <tr>\n",
              "      <th>13</th>\n",
              "      <td>asanoha</td>\n",
              "      <td>bluegrey</td>\n",
              "      <td>shinkansen200</td>\n",
              "      <td>uni-cucumber</td>\n",
              "      <td>square-honey</td>\n",
              "    </tr>\n",
              "    <tr>\n",
              "      <th>14</th>\n",
              "      <td>uroko</td>\n",
              "      <td>yellow</td>\n",
              "      <td>goodwill</td>\n",
              "      <td>conger-eel</td>\n",
              "      <td>square-blue</td>\n",
              "    </tr>\n",
              "    <tr>\n",
              "      <th>15</th>\n",
              "      <td>seigaiha</td>\n",
              "      <td>bege-bsod</td>\n",
              "      <td>shinkansen200</td>\n",
              "      <td>kohada</td>\n",
              "      <td>square-grey-light</td>\n",
              "    </tr>\n",
              "    <tr>\n",
              "      <th>16</th>\n",
              "      <td>hishi</td>\n",
              "      <td>orange-yellow</td>\n",
              "      <td>senkouhanabi</td>\n",
              "      <td>kanpyou-maki</td>\n",
              "      <td>square-teal</td>\n",
              "    </tr>\n",
              "    <tr>\n",
              "      <th>17</th>\n",
              "      <td>tatewaku</td>\n",
              "      <td>darkpink</td>\n",
              "      <td>sakura</td>\n",
              "      <td>kappa-maki</td>\n",
              "      <td>square-black</td>\n",
              "    </tr>\n",
              "    <tr>\n",
              "      <th>18</th>\n",
              "      <td>uroko</td>\n",
              "      <td>yellow</td>\n",
              "      <td>txt-jp</td>\n",
              "      <td>takuan-maki</td>\n",
              "      <td>square-blue-med-saturated</td>\n",
              "    </tr>\n",
              "  </tbody>\n",
              "</table>\n",
              "</div>\n",
              "      <button class=\"colab-df-convert\" onclick=\"convertToInteractive('df-7117b03e-d705-4015-b08b-38e0b7da65a0')\"\n",
              "              title=\"Convert this dataframe to an interactive table.\"\n",
              "              style=\"display:none;\">\n",
              "        \n",
              "  <svg xmlns=\"http://www.w3.org/2000/svg\" height=\"24px\"viewBox=\"0 0 24 24\"\n",
              "       width=\"24px\">\n",
              "    <path d=\"M0 0h24v24H0V0z\" fill=\"none\"/>\n",
              "    <path d=\"M18.56 5.44l.94 2.06.94-2.06 2.06-.94-2.06-.94-.94-2.06-.94 2.06-2.06.94zm-11 1L8.5 8.5l.94-2.06 2.06-.94-2.06-.94L8.5 2.5l-.94 2.06-2.06.94zm10 10l.94 2.06.94-2.06 2.06-.94-2.06-.94-.94-2.06-.94 2.06-2.06.94z\"/><path d=\"M17.41 7.96l-1.37-1.37c-.4-.4-.92-.59-1.43-.59-.52 0-1.04.2-1.43.59L10.3 9.45l-7.72 7.72c-.78.78-.78 2.05 0 2.83L4 21.41c.39.39.9.59 1.41.59.51 0 1.02-.2 1.41-.59l7.78-7.78 2.81-2.81c.8-.78.8-2.07 0-2.86zM5.41 20L4 18.59l7.72-7.72 1.47 1.35L5.41 20z\"/>\n",
              "  </svg>\n",
              "      </button>\n",
              "      \n",
              "  <style>\n",
              "    .colab-df-container {\n",
              "      display:flex;\n",
              "      flex-wrap:wrap;\n",
              "      gap: 12px;\n",
              "    }\n",
              "\n",
              "    .colab-df-convert {\n",
              "      background-color: #E8F0FE;\n",
              "      border: none;\n",
              "      border-radius: 50%;\n",
              "      cursor: pointer;\n",
              "      display: none;\n",
              "      fill: #1967D2;\n",
              "      height: 32px;\n",
              "      padding: 0 0 0 0;\n",
              "      width: 32px;\n",
              "    }\n",
              "\n",
              "    .colab-df-convert:hover {\n",
              "      background-color: #E2EBFA;\n",
              "      box-shadow: 0px 1px 2px rgba(60, 64, 67, 0.3), 0px 1px 3px 1px rgba(60, 64, 67, 0.15);\n",
              "      fill: #174EA6;\n",
              "    }\n",
              "\n",
              "    [theme=dark] .colab-df-convert {\n",
              "      background-color: #3B4455;\n",
              "      fill: #D2E3FC;\n",
              "    }\n",
              "\n",
              "    [theme=dark] .colab-df-convert:hover {\n",
              "      background-color: #434B5C;\n",
              "      box-shadow: 0px 1px 3px 1px rgba(0, 0, 0, 0.15);\n",
              "      filter: drop-shadow(0px 1px 2px rgba(0, 0, 0, 0.3));\n",
              "      fill: #FFFFFF;\n",
              "    }\n",
              "  </style>\n",
              "\n",
              "      <script>\n",
              "        const buttonEl =\n",
              "          document.querySelector('#df-7117b03e-d705-4015-b08b-38e0b7da65a0 button.colab-df-convert');\n",
              "        buttonEl.style.display =\n",
              "          google.colab.kernel.accessAllowed ? 'block' : 'none';\n",
              "\n",
              "        async function convertToInteractive(key) {\n",
              "          const element = document.querySelector('#df-7117b03e-d705-4015-b08b-38e0b7da65a0');\n",
              "          const dataTable =\n",
              "            await google.colab.kernel.invokeFunction('convertToInteractive',\n",
              "                                                     [key], {});\n",
              "          if (!dataTable) return;\n",
              "\n",
              "          const docLinkHtml = 'Like what you see? Visit the ' +\n",
              "            '<a target=\"_blank\" href=https://colab.research.google.com/notebooks/data_table.ipynb>data table notebook</a>'\n",
              "            + ' to learn more about interactive tables.';\n",
              "          element.innerHTML = '';\n",
              "          dataTable['output_type'] = 'display_data';\n",
              "          await google.colab.output.renderOutput(dataTable, element);\n",
              "          const docLink = document.createElement('div');\n",
              "          docLink.innerHTML = docLinkHtml;\n",
              "          element.appendChild(docLink);\n",
              "        }\n",
              "      </script>\n",
              "    </div>\n",
              "  </div>\n",
              "  "
            ]
          },
          "metadata": {}
        }
      ],
      "source": [
        "table_traits(p_traits_head)"
      ]
    },
    {
      "cell_type": "markdown",
      "metadata": {
        "id": "3pSf_sD0eOVC"
      },
      "source": [
        "## for each bg"
      ]
    },
    {
      "cell_type": "code",
      "execution_count": null,
      "metadata": {
        "colab": {
          "base_uri": "https://localhost:8080/",
          "height": 441
        },
        "id": "UCVi5eb-eOVC",
        "outputId": "0a112746-766f-47c0-f929-3d1e7403e252"
      },
      "outputs": [
        {
          "output_type": "display_data",
          "data": {
            "text/plain": [
              "<Figure size 720x432 with 15 Axes>"
            ],
            "image/png": "[encoded data removed]"
          },
          "metadata": {}
        }
      ],
      "source": [
        "n = len(traits[0])\n",
        "p_traits_bg = [[\n",
        "                traits[0][i],\n",
        "                random.choice(traits[1]),\n",
        "                random.choice(traits[2]),\n",
        "                random.choice(traits[3]),\n",
        "                random.choice(traits[4]),\n",
        "                ]\n",
        "                for i in range(n)]\n",
        "ims_bg = [im_stack(x) for x in p_traits_bg]\n",
        "\n",
        "plt_ims_auto(ims_bg)"
      ]
    },
    {
      "cell_type": "code",
      "execution_count": null,
      "metadata": {
        "colab": {
          "base_uri": "https://localhost:8080/",
          "height": 457
        },
        "id": "n3Af7b9ieOVD",
        "outputId": "97d0eb7a-4c1e-496c-e64c-6a2befa9009f"
      },
      "outputs": [
        {
          "output_type": "display_data",
          "data": {
            "text/plain": [
              "   0-backgrounds    1-bodies 2-accessories            3-heads  \\\n",
              "0       yagasuri  redpinkish      gari-box     shime-mackerel   \n",
              "1          uroko      yellow          geta           kakinoha   \n",
              "2         higaki    blue-sky        wasabi       kanpyou-maki   \n",
              "3         kagome        cold          geta             aoyagi   \n",
              "4       tatewaku      yellow          Dpad    california-roll   \n",
              "5        shippou      purple     txt-sushi         tekka-maki   \n",
              "6     sankuzushi    peachy-B      goldfish         kappa-maki   \n",
              "7      ichimatsu  slimegreen          Dpad     shime-mackerel   \n",
              "8         fundou    bege-crt          Dpad           skipjack   \n",
              "9        asanoha     foggrey       pointer             kohada   \n",
              "10      seigaiha        teal      goodwill  medium-fatty-tuna   \n",
              "11        koushi    bluegrey  map-of-japan        takuan-maki   \n",
              "12         hishi        gunk          crab        sea-​​bream   \n",
              "\n",
              "                   4-glasses  \n",
              "0                square-blue  \n",
              "1                square-blue  \n",
              "2                square-teal  \n",
              "3   square-pink-purple-multi  \n",
              "4           square-fullblack  \n",
              "5    square-yellow-saturated  \n",
              "6    square-green-blue-multi  \n",
              "7               square-smoke  \n",
              "8    square-green-blue-multi  \n",
              "9                square-teal  \n",
              "10          square-fullblack  \n",
              "11         square-grey-light  \n",
              "12            square-magenta  "
            ],
            "text/html": [
              "\n",
              "  <div id=\"df-c7528c0e-93d4-4ea2-94fc-c9dbd6566738\">\n",
              "    <div class=\"colab-df-container\">\n",
              "      <div>\n",
              "<style scoped>\n",
              "    .dataframe tbody tr th:only-of-type {\n",
              "        vertical-align: middle;\n",
              "    }\n",
              "\n",
              "    .dataframe tbody tr th {\n",
              "        vertical-align: top;\n",
              "    }\n",
              "\n",
              "    .dataframe thead th {\n",
              "        text-align: right;\n",
              "    }\n",
              "</style>\n",
              "<table border=\"1\" class=\"dataframe\">\n",
              "  <thead>\n",
              "    <tr style=\"text-align: right;\">\n",
              "      <th></th>\n",
              "      <th>0-backgrounds</th>\n",
              "      <th>1-bodies</th>\n",
              "      <th>2-accessories</th>\n",
              "      <th>3-heads</th>\n",
              "      <th>4-glasses</th>\n",
              "    </tr>\n",
              "  </thead>\n",
              "  <tbody>\n",
              "    <tr>\n",
              "      <th>0</th>\n",
              "      <td>yagasuri</td>\n",
              "      <td>redpinkish</td>\n",
              "      <td>gari-box</td>\n",
              "      <td>shime-mackerel</td>\n",
              "      <td>square-blue</td>\n",
              "    </tr>\n",
              "    <tr>\n",
              "      <th>1</th>\n",
              "      <td>uroko</td>\n",
              "      <td>yellow</td>\n",
              "      <td>geta</td>\n",
              "      <td>kakinoha</td>\n",
              "      <td>square-blue</td>\n",
              "    </tr>\n",
              "    <tr>\n",
              "      <th>2</th>\n",
              "      <td>higaki</td>\n",
              "      <td>blue-sky</td>\n",
              "      <td>wasabi</td>\n",
              "      <td>kanpyou-maki</td>\n",
              "      <td>square-teal</td>\n",
              "    </tr>\n",
              "    <tr>\n",
              "      <th>3</th>\n",
              "      <td>kagome</td>\n",
              "      <td>cold</td>\n",
              "      <td>geta</td>\n",
              "      <td>aoyagi</td>\n",
              "      <td>square-pink-purple-multi</td>\n",
              "    </tr>\n",
              "    <tr>\n",
              "      <th>4</th>\n",
              "      <td>tatewaku</td>\n",
              "      <td>yellow</td>\n",
              "      <td>Dpad</td>\n",
              "      <td>california-roll</td>\n",
              "      <td>square-fullblack</td>\n",
              "    </tr>\n",
              "    <tr>\n",
              "      <th>5</th>\n",
              "      <td>shippou</td>\n",
              "      <td>purple</td>\n",
              "      <td>txt-sushi</td>\n",
              "      <td>tekka-maki</td>\n",
              "      <td>square-yellow-saturated</td>\n",
              "    </tr>\n",
              "    <tr>\n",
              "      <th>6</th>\n",
              "      <td>sankuzushi</td>\n",
              "      <td>peachy-B</td>\n",
              "      <td>goldfish</td>\n",
              "      <td>kappa-maki</td>\n",
              "      <td>square-green-blue-multi</td>\n",
              "    </tr>\n",
              "    <tr>\n",
              "      <th>7</th>\n",
              "      <td>ichimatsu</td>\n",
              "      <td>slimegreen</td>\n",
              "      <td>Dpad</td>\n",
              "      <td>shime-mackerel</td>\n",
              "      <td>square-smoke</td>\n",
              "    </tr>\n",
              "    <tr>\n",
              "      <th>8</th>\n",
              "      <td>fundou</td>\n",
              "      <td>bege-crt</td>\n",
              "      <td>Dpad</td>\n",
              "      <td>skipjack</td>\n",
              "      <td>square-green-blue-multi</td>\n",
              "    </tr>\n",
              "    <tr>\n",
              "      <th>9</th>\n",
              "      <td>asanoha</td>\n",
              "      <td>foggrey</td>\n",
              "      <td>pointer</td>\n",
              "      <td>kohada</td>\n",
              "      <td>square-teal</td>\n",
              "    </tr>\n",
              "    <tr>\n",
              "      <th>10</th>\n",
              "      <td>seigaiha</td>\n",
              "      <td>teal</td>\n",
              "      <td>goodwill</td>\n",
              "      <td>medium-fatty-tuna</td>\n",
              "      <td>square-fullblack</td>\n",
              "    </tr>\n",
              "    <tr>\n",
              "      <th>11</th>\n",
              "      <td>koushi</td>\n",
              "      <td>bluegrey</td>\n",
              "      <td>map-of-japan</td>\n",
              "      <td>takuan-maki</td>\n",
              "      <td>square-grey-light</td>\n",
              "    </tr>\n",
              "    <tr>\n",
              "      <th>12</th>\n",
              "      <td>hishi</td>\n",
              "      <td>gunk</td>\n",
              "      <td>crab</td>\n",
              "      <td>sea-​​bream</td>\n",
              "      <td>square-magenta</td>\n",
              "    </tr>\n",
              "  </tbody>\n",
              "</table>\n",
              "</div>\n",
              "      <button class=\"colab-df-convert\" onclick=\"convertToInteractive('df-c7528c0e-93d4-4ea2-94fc-c9dbd6566738')\"\n",
              "              title=\"Convert this dataframe to an interactive table.\"\n",
              "              style=\"display:none;\">\n",
              "        \n",
              "  <svg xmlns=\"http://www.w3.org/2000/svg\" height=\"24px\"viewBox=\"0 0 24 24\"\n",
              "       width=\"24px\">\n",
              "    <path d=\"M0 0h24v24H0V0z\" fill=\"none\"/>\n",
              "    <path d=\"M18.56 5.44l.94 2.06.94-2.06 2.06-.94-2.06-.94-.94-2.06-.94 2.06-2.06.94zm-11 1L8.5 8.5l.94-2.06 2.06-.94-2.06-.94L8.5 2.5l-.94 2.06-2.06.94zm10 10l.94 2.06.94-2.06 2.06-.94-2.06-.94-.94-2.06-.94 2.06-2.06.94z\"/><path d=\"M17.41 7.96l-1.37-1.37c-.4-.4-.92-.59-1.43-.59-.52 0-1.04.2-1.43.59L10.3 9.45l-7.72 7.72c-.78.78-.78 2.05 0 2.83L4 21.41c.39.39.9.59 1.41.59.51 0 1.02-.2 1.41-.59l7.78-7.78 2.81-2.81c.8-.78.8-2.07 0-2.86zM5.41 20L4 18.59l7.72-7.72 1.47 1.35L5.41 20z\"/>\n",
              "  </svg>\n",
              "      </button>\n",
              "      \n",
              "  <style>\n",
              "    .colab-df-container {\n",
              "      display:flex;\n",
              "      flex-wrap:wrap;\n",
              "      gap: 12px;\n",
              "    }\n",
              "\n",
              "    .colab-df-convert {\n",
              "      background-color: #E8F0FE;\n",
              "      border: none;\n",
              "      border-radius: 50%;\n",
              "      cursor: pointer;\n",
              "      display: none;\n",
              "      fill: #1967D2;\n",
              "      height: 32px;\n",
              "      padding: 0 0 0 0;\n",
              "      width: 32px;\n",
              "    }\n",
              "\n",
              "    .colab-df-convert:hover {\n",
              "      background-color: #E2EBFA;\n",
              "      box-shadow: 0px 1px 2px rgba(60, 64, 67, 0.3), 0px 1px 3px 1px rgba(60, 64, 67, 0.15);\n",
              "      fill: #174EA6;\n",
              "    }\n",
              "\n",
              "    [theme=dark] .colab-df-convert {\n",
              "      background-color: #3B4455;\n",
              "      fill: #D2E3FC;\n",
              "    }\n",
              "\n",
              "    [theme=dark] .colab-df-convert:hover {\n",
              "      background-color: #434B5C;\n",
              "      box-shadow: 0px 1px 3px 1px rgba(0, 0, 0, 0.15);\n",
              "      filter: drop-shadow(0px 1px 2px rgba(0, 0, 0, 0.3));\n",
              "      fill: #FFFFFF;\n",
              "    }\n",
              "  </style>\n",
              "\n",
              "      <script>\n",
              "        const buttonEl =\n",
              "          document.querySelector('#df-c7528c0e-93d4-4ea2-94fc-c9dbd6566738 button.colab-df-convert');\n",
              "        buttonEl.style.display =\n",
              "          google.colab.kernel.accessAllowed ? 'block' : 'none';\n",
              "\n",
              "        async function convertToInteractive(key) {\n",
              "          const element = document.querySelector('#df-c7528c0e-93d4-4ea2-94fc-c9dbd6566738');\n",
              "          const dataTable =\n",
              "            await google.colab.kernel.invokeFunction('convertToInteractive',\n",
              "                                                     [key], {});\n",
              "          if (!dataTable) return;\n",
              "\n",
              "          const docLinkHtml = 'Like what you see? Visit the ' +\n",
              "            '<a target=\"_blank\" href=https://colab.research.google.com/notebooks/data_table.ipynb>data table notebook</a>'\n",
              "            + ' to learn more about interactive tables.';\n",
              "          element.innerHTML = '';\n",
              "          dataTable['output_type'] = 'display_data';\n",
              "          await google.colab.output.renderOutput(dataTable, element);\n",
              "          const docLink = document.createElement('div');\n",
              "          docLink.innerHTML = docLinkHtml;\n",
              "          element.appendChild(docLink);\n",
              "        }\n",
              "      </script>\n",
              "    </div>\n",
              "  </div>\n",
              "  "
            ]
          },
          "metadata": {}
        }
      ],
      "source": [
        "table_traits(p_traits_bg)"
      ]
    },
    {
      "cell_type": "markdown",
      "source": [
        "### replace bg-color"
      ],
      "metadata": {
        "id": "hLPyPhTkrfZ6"
      }
    },
    {
      "cell_type": "markdown",
      "source": [
        "#### setup"
      ],
      "metadata": {
        "id": "HdIPy5yqrmOC"
      }
    },
    {
      "cell_type": "code",
      "source": [
        "import json\n",
        "from functools import partial\n",
        "\n",
        "import numpy as np"
      ],
      "metadata": {
        "id": "2Eo0yS6OrgAz"
      },
      "execution_count": null,
      "outputs": []
    },
    {
      "cell_type": "code",
      "source": [
        "def repl_clr(im, bgcolors):\n",
        "    getc = im.getcolors()\n",
        "\n",
        "    # ITU-R 601-2 luma transform\n",
        "    L = [R * 299/1000 + G * 587/1000 + B * 114/1000\n",
        "        for R, G, B, A in (getc[0][1], getc[1][1])]\n",
        "    i = 0 if L[0] >= L[1] else 1\n",
        "    c0 = np.array(getc[i][1])\n",
        "\n",
        "    arr = np.array(im)\n",
        "    _c0 = np.array(ccode2rgb(bgcolors[0]) + [255], dtype=arr.dtype)\n",
        "    _c1 = np.array(ccode2rgb(bgcolors[1]) + [255], dtype=arr.dtype)\n",
        "    arr = np.where(arr == c0, _c0, _c1)\n",
        "\n",
        "    return Image.fromarray(arr)\n",
        "\n",
        "\n",
        "def ccode2rgb(c: str) -> tuple:\n",
        "    c = c.replace(\"#\", \"\")\n",
        "    return [int(c[:2], 16), int(c[2:4], 16), int(c[4:6], 16)]\n",
        "\n",
        "\n",
        "def im_stack2(parts: list, func) -> Image.Image:\n",
        "    for i, x in enumerate(parts):\n",
        "        if i == 0:\n",
        "            im = Image.open(x)\n",
        "            im = func(im)\n",
        "        else:\n",
        "            _x = Image.open(x)\n",
        "            im.paste(_x, mask=_x)\n",
        "    return im"
      ],
      "metadata": {
        "id": "pKalUc4hrlNr"
      },
      "execution_count": null,
      "outputs": []
    },
    {
      "cell_type": "markdown",
      "source": [
        "#### generate"
      ],
      "metadata": {
        "id": "eJ_cH_1Wrvwi"
      }
    },
    {
      "cell_type": "code",
      "source": [
        "bgcolors = [\"#eff2fa\", \"#d5d7e1\"]  # d5d7e1: bg-cool\n",
        "\n",
        "ims_bg2 = [im_stack2(x, partial(repl_clr, bgcolors=bgcolors))\n",
        "        for x in p_traits_bg]\n",
        "plt_ims_auto(ims_bg2)"
      ],
      "metadata": {
        "id": "jKPwuCCGrxda",
        "outputId": "179ef7f5-3efb-4948-a885-a4f8383af8b4",
        "colab": {
          "base_uri": "https://localhost:8080/",
          "height": 441
        }
      },
      "execution_count": null,
      "outputs": [
        {
          "output_type": "display_data",
          "data": {
            "text/plain": [
              "<Figure size 720x432 with 15 Axes>"
            ],
            "image/png": "[encoded data removed]"
          },
          "metadata": {}
        }
      ]
    },
    {
      "cell_type": "code",
      "source": [
        "bgcolors = [\"#fffdf4\", \"#e1d7d5\"]  # e1d7d5: bg-warm\n",
        "\n",
        "ims_bg2 = [im_stack2(x, partial(repl_clr, bgcolors=bgcolors))\n",
        "        for x in p_traits_bg]\n",
        "plt_ims_auto(ims_bg2)"
      ],
      "metadata": {
        "id": "S2Z2UgB1ry_K",
        "outputId": "252cd592-2ac2-4e4f-fc03-583280d1c07d",
        "colab": {
          "base_uri": "https://localhost:8080/",
          "height": 441
        }
      },
      "execution_count": null,
      "outputs": [
        {
          "output_type": "display_data",
          "data": {
            "text/plain": [
              "<Figure size 720x432 with 15 Axes>"
            ],
            "image/png": "[encoded data removed]"
          },
          "metadata": {}
        }
      ]
    },
    {
      "cell_type": "code",
      "source": [
        "bgcolors = [\"#d5d7e1\", \"#5a6b7b\"]\n",
        "\n",
        "ims_bg2 = [im_stack2(x, partial(repl_clr, bgcolors=bgcolors))\n",
        "        for x in p_traits_bg]\n",
        "plt_ims_auto(ims_bg2)"
      ],
      "metadata": {
        "id": "cbH688WNr2ak",
        "outputId": "650db4b1-92ff-4bf3-b12b-7133c3a84156",
        "colab": {
          "base_uri": "https://localhost:8080/",
          "height": 441
        }
      },
      "execution_count": null,
      "outputs": [
        {
          "output_type": "display_data",
          "data": {
            "text/plain": [
              "<Figure size 720x432 with 15 Axes>"
            ],
            "image/png": "[encoded data removed]"
          },
          "metadata": {}
        }
      ]
    },
    {
      "cell_type": "markdown",
      "source": [
        "#### random"
      ],
      "metadata": {
        "id": "T-AUedRvr5DZ"
      }
    },
    {
      "cell_type": "code",
      "source": [
        "_p = Path(r'./nouns-monorepo/packages/nouns-assets/src/image-data.json')\n",
        "with open(_p) as f:\n",
        "    data = json.load(f)\n",
        "\n",
        "data['palette'].remove(\"\")\n",
        "palette = data['bgcolors'] + data['palette']"
      ],
      "metadata": {
        "id": "s7e3yYSur4hR"
      },
      "execution_count": null,
      "outputs": []
    },
    {
      "cell_type": "code",
      "source": [
        "bgcolors = random.choices(palette, k=2)\n",
        "print(bgcolors)\n",
        "\n",
        "ims_bg2 = [im_stack2(x, partial(repl_clr, bgcolors=bgcolors))\n",
        "        for x in p_traits_bg]\n",
        "plt_ims_auto(ims_bg2)"
      ],
      "metadata": {
        "id": "4BtCr1T8sFQC",
        "outputId": "6df25feb-e6dd-479c-d23a-5590ee26a3d9",
        "colab": {
          "base_uri": "https://localhost:8080/",
          "height": 458
        }
      },
      "execution_count": null,
      "outputs": [
        {
          "output_type": "stream",
          "name": "stdout",
          "text": [
            "['d18687', '235476']\n"
          ]
        },
        {
          "output_type": "display_data",
          "data": {
            "text/plain": [
              "<Figure size 720x432 with 15 Axes>"
            ],
            "image/png": "[encoded data removed]"
          },
          "metadata": {}
        }
      ]
    }
  ],
  "metadata": {
    "colab": {
      "collapsed_sections": [],
      "name": "gen_nouns_sushi.ipynb",
      "provenance": [],
      "toc_visible": true
    },
    "interpreter": {
      "hash": "2905ecdcdc53603a9c76cea012e1dad828016fa920477ab0e96be966017ffabc"
    },
    "kernelspec": {
      "display_name": "Python 3.6.12 ('base')",
      "language": "python",
      "name": "python3"
    },
    "language_info": {
      "codemirror_mode": {
        "name": "ipython",
        "version": 3
      },
      "file_extension": ".py",
      "mimetype": "text/x-python",
      "name": "python",
      "nbconvert_exporter": "python",
      "pygments_lexer": "ipython3",
      "version": "3.6.12"
    },
    "orig_nbformat": 4
  },
  "nbformat": 4,
  "nbformat_minor": 0
}